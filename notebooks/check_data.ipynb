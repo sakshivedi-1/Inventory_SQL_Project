{
 "cells": [
  {
   "cell_type": "code",
   "execution_count": 1,
   "id": "d262b0e2",
   "metadata": {},
   "outputs": [],
   "source": [
    "import pandas as pd\n",
    "import numpy as np"
   ]
  },
  {
   "cell_type": "code",
   "execution_count": null,
   "id": "b47838db",
   "metadata": {},
   "outputs": [],
   "source": [
    "df = pd.read_csv(r'')\n"
   ]
  },
  {
   "cell_type": "code",
   "execution_count": 3,
   "id": "ad095b23",
   "metadata": {},
   "outputs": [
    {
     "data": {
      "text/html": [
       "<div>\n",
       "<style scoped>\n",
       "    .dataframe tbody tr th:only-of-type {\n",
       "        vertical-align: middle;\n",
       "    }\n",
       "\n",
       "    .dataframe tbody tr th {\n",
       "        vertical-align: top;\n",
       "    }\n",
       "\n",
       "    .dataframe thead th {\n",
       "        text-align: right;\n",
       "    }\n",
       "</style>\n",
       "<table border=\"1\" class=\"dataframe\">\n",
       "  <thead>\n",
       "    <tr style=\"text-align: right;\">\n",
       "      <th></th>\n",
       "      <th>Date</th>\n",
       "      <th>Store ID</th>\n",
       "      <th>Product ID</th>\n",
       "      <th>Category</th>\n",
       "      <th>Region</th>\n",
       "      <th>Inventory Level</th>\n",
       "      <th>Units Sold</th>\n",
       "      <th>Units Ordered</th>\n",
       "      <th>Demand Forecast</th>\n",
       "      <th>Price</th>\n",
       "      <th>Discount</th>\n",
       "      <th>Weather Condition</th>\n",
       "      <th>Holiday/Promotion</th>\n",
       "      <th>Competitor Pricing</th>\n",
       "      <th>Seasonality</th>\n",
       "    </tr>\n",
       "  </thead>\n",
       "  <tbody>\n",
       "    <tr>\n",
       "      <th>0</th>\n",
       "      <td>2022-01-01</td>\n",
       "      <td>S001</td>\n",
       "      <td>P0096</td>\n",
       "      <td>Toys</td>\n",
       "      <td>West</td>\n",
       "      <td>158</td>\n",
       "      <td>134</td>\n",
       "      <td>142</td>\n",
       "      <td>152.36</td>\n",
       "      <td>40.88</td>\n",
       "      <td>5</td>\n",
       "      <td>Sunny</td>\n",
       "      <td>1</td>\n",
       "      <td>42.39</td>\n",
       "      <td>Winter</td>\n",
       "    </tr>\n",
       "    <tr>\n",
       "      <th>1</th>\n",
       "      <td>2022-01-01</td>\n",
       "      <td>S001</td>\n",
       "      <td>P0016</td>\n",
       "      <td>Clothing</td>\n",
       "      <td>East</td>\n",
       "      <td>189</td>\n",
       "      <td>127</td>\n",
       "      <td>125</td>\n",
       "      <td>150.47</td>\n",
       "      <td>90.78</td>\n",
       "      <td>0</td>\n",
       "      <td>Rainy</td>\n",
       "      <td>0</td>\n",
       "      <td>84.16</td>\n",
       "      <td>Winter</td>\n",
       "    </tr>\n",
       "    <tr>\n",
       "      <th>2</th>\n",
       "      <td>2022-01-01</td>\n",
       "      <td>S001</td>\n",
       "      <td>P0031</td>\n",
       "      <td>Electronics</td>\n",
       "      <td>West</td>\n",
       "      <td>75</td>\n",
       "      <td>48</td>\n",
       "      <td>39</td>\n",
       "      <td>68.62</td>\n",
       "      <td>13.99</td>\n",
       "      <td>20</td>\n",
       "      <td>Rainy</td>\n",
       "      <td>0</td>\n",
       "      <td>12.67</td>\n",
       "      <td>Winter</td>\n",
       "    </tr>\n",
       "    <tr>\n",
       "      <th>3</th>\n",
       "      <td>2022-01-01</td>\n",
       "      <td>S001</td>\n",
       "      <td>P0159</td>\n",
       "      <td>Electronics</td>\n",
       "      <td>West</td>\n",
       "      <td>161</td>\n",
       "      <td>74</td>\n",
       "      <td>71</td>\n",
       "      <td>75.46</td>\n",
       "      <td>84.92</td>\n",
       "      <td>10</td>\n",
       "      <td>Snowy</td>\n",
       "      <td>0</td>\n",
       "      <td>83.03</td>\n",
       "      <td>Winter</td>\n",
       "    </tr>\n",
       "    <tr>\n",
       "      <th>4</th>\n",
       "      <td>2022-01-01</td>\n",
       "      <td>S001</td>\n",
       "      <td>P0129</td>\n",
       "      <td>Furniture</td>\n",
       "      <td>South</td>\n",
       "      <td>135</td>\n",
       "      <td>66</td>\n",
       "      <td>69</td>\n",
       "      <td>67.18</td>\n",
       "      <td>19.66</td>\n",
       "      <td>0</td>\n",
       "      <td>Cloudy</td>\n",
       "      <td>0</td>\n",
       "      <td>20.55</td>\n",
       "      <td>Winter</td>\n",
       "    </tr>\n",
       "  </tbody>\n",
       "</table>\n",
       "</div>"
      ],
      "text/plain": [
       "         Date Store ID Product ID     Category Region  Inventory Level  \\\n",
       "0  2022-01-01     S001      P0096         Toys   West              158   \n",
       "1  2022-01-01     S001      P0016     Clothing   East              189   \n",
       "2  2022-01-01     S001      P0031  Electronics   West               75   \n",
       "3  2022-01-01     S001      P0159  Electronics   West              161   \n",
       "4  2022-01-01     S001      P0129    Furniture  South              135   \n",
       "\n",
       "   Units Sold  Units Ordered  Demand Forecast  Price  Discount  \\\n",
       "0         134            142           152.36  40.88         5   \n",
       "1         127            125           150.47  90.78         0   \n",
       "2          48             39            68.62  13.99        20   \n",
       "3          74             71            75.46  84.92        10   \n",
       "4          66             69            67.18  19.66         0   \n",
       "\n",
       "  Weather Condition  Holiday/Promotion  Competitor Pricing Seasonality  \n",
       "0             Sunny                  1               42.39      Winter  \n",
       "1             Rainy                  0               84.16      Winter  \n",
       "2             Rainy                  0               12.67      Winter  \n",
       "3             Snowy                  0               83.03      Winter  \n",
       "4            Cloudy                  0               20.55      Winter  "
      ]
     },
     "execution_count": 3,
     "metadata": {},
     "output_type": "execute_result"
    }
   ],
   "source": [
    "df.head()\n"
   ]
  },
  {
   "cell_type": "code",
   "execution_count": 5,
   "id": "3398e5f6",
   "metadata": {},
   "outputs": [
    {
     "data": {
      "text/plain": [
       "Index(['Date', 'Store ID', 'Product ID', 'Category', 'Region',\n",
       "       'Inventory Level', 'Units Sold', 'Units Ordered', 'Demand Forecast',\n",
       "       'Price', 'Discount', 'Weather Condition', 'Holiday/Promotion',\n",
       "       'Competitor Pricing', 'Seasonality'],\n",
       "      dtype='object')"
      ]
     },
     "execution_count": 5,
     "metadata": {},
     "output_type": "execute_result"
    }
   ],
   "source": [
    "df.columns\n"
   ]
  },
  {
   "cell_type": "code",
   "execution_count": 6,
   "id": "f057fcf0",
   "metadata": {},
   "outputs": [
    {
     "data": {
      "text/plain": [
       "Date                   object\n",
       "Store ID               object\n",
       "Product ID             object\n",
       "Category               object\n",
       "Region                 object\n",
       "Inventory Level         int64\n",
       "Units Sold              int64\n",
       "Units Ordered           int64\n",
       "Demand Forecast       float64\n",
       "Price                 float64\n",
       "Discount                int64\n",
       "Weather Condition      object\n",
       "Holiday/Promotion       int64\n",
       "Competitor Pricing    float64\n",
       "Seasonality            object\n",
       "dtype: object"
      ]
     },
     "execution_count": 6,
     "metadata": {},
     "output_type": "execute_result"
    }
   ],
   "source": [
    "df.dtypes\n"
   ]
  },
  {
   "cell_type": "code",
   "execution_count": 7,
   "id": "97e35ca3",
   "metadata": {},
   "outputs": [
    {
     "data": {
      "text/plain": [
       "Date                  0\n",
       "Store ID              0\n",
       "Product ID            0\n",
       "Category              0\n",
       "Region                0\n",
       "Inventory Level       0\n",
       "Units Sold            0\n",
       "Units Ordered         0\n",
       "Demand Forecast       0\n",
       "Price                 0\n",
       "Discount              0\n",
       "Weather Condition     0\n",
       "Holiday/Promotion     0\n",
       "Competitor Pricing    0\n",
       "Seasonality           0\n",
       "dtype: int64"
      ]
     },
     "execution_count": 7,
     "metadata": {},
     "output_type": "execute_result"
    }
   ],
   "source": [
    "df.isnull().sum()\n"
   ]
  },
  {
   "cell_type": "code",
   "execution_count": 8,
   "id": "fcde81c8",
   "metadata": {},
   "outputs": [
    {
     "data": {
      "text/plain": [
       "0"
      ]
     },
     "execution_count": 8,
     "metadata": {},
     "output_type": "execute_result"
    }
   ],
   "source": [
    "df.duplicated().sum()\n"
   ]
  },
  {
   "cell_type": "code",
   "execution_count": 9,
   "id": "0fbe14c6",
   "metadata": {},
   "outputs": [
    {
     "data": {
      "text/html": [
       "<div>\n",
       "<style scoped>\n",
       "    .dataframe tbody tr th:only-of-type {\n",
       "        vertical-align: middle;\n",
       "    }\n",
       "\n",
       "    .dataframe tbody tr th {\n",
       "        vertical-align: top;\n",
       "    }\n",
       "\n",
       "    .dataframe thead th {\n",
       "        text-align: right;\n",
       "    }\n",
       "</style>\n",
       "<table border=\"1\" class=\"dataframe\">\n",
       "  <thead>\n",
       "    <tr style=\"text-align: right;\">\n",
       "      <th></th>\n",
       "      <th>Inventory Level</th>\n",
       "      <th>Units Sold</th>\n",
       "      <th>Units Ordered</th>\n",
       "      <th>Demand Forecast</th>\n",
       "      <th>Price</th>\n",
       "      <th>Discount</th>\n",
       "      <th>Holiday/Promotion</th>\n",
       "      <th>Competitor Pricing</th>\n",
       "    </tr>\n",
       "  </thead>\n",
       "  <tbody>\n",
       "    <tr>\n",
       "      <th>count</th>\n",
       "      <td>109500.000000</td>\n",
       "      <td>109500.000000</td>\n",
       "      <td>109500.000000</td>\n",
       "      <td>109500.000000</td>\n",
       "      <td>109500.000000</td>\n",
       "      <td>109500.000000</td>\n",
       "      <td>109500.00000</td>\n",
       "      <td>109500.000000</td>\n",
       "    </tr>\n",
       "    <tr>\n",
       "      <th>mean</th>\n",
       "      <td>145.705954</td>\n",
       "      <td>96.724356</td>\n",
       "      <td>96.302320</td>\n",
       "      <td>108.003150</td>\n",
       "      <td>55.023588</td>\n",
       "      <td>7.517397</td>\n",
       "      <td>0.15011</td>\n",
       "      <td>55.011232</td>\n",
       "    </tr>\n",
       "    <tr>\n",
       "      <th>std</th>\n",
       "      <td>48.301634</td>\n",
       "      <td>36.948147</td>\n",
       "      <td>38.630996</td>\n",
       "      <td>38.319878</td>\n",
       "      <td>25.996368</td>\n",
       "      <td>6.446679</td>\n",
       "      <td>0.35718</td>\n",
       "      <td>26.217801</td>\n",
       "    </tr>\n",
       "    <tr>\n",
       "      <th>min</th>\n",
       "      <td>20.000000</td>\n",
       "      <td>0.000000</td>\n",
       "      <td>20.000000</td>\n",
       "      <td>0.000000</td>\n",
       "      <td>10.000000</td>\n",
       "      <td>0.000000</td>\n",
       "      <td>0.00000</td>\n",
       "      <td>9.080000</td>\n",
       "    </tr>\n",
       "    <tr>\n",
       "      <th>25%</th>\n",
       "      <td>112.000000</td>\n",
       "      <td>71.000000</td>\n",
       "      <td>69.000000</td>\n",
       "      <td>81.960000</td>\n",
       "      <td>32.520000</td>\n",
       "      <td>0.000000</td>\n",
       "      <td>0.00000</td>\n",
       "      <td>32.400000</td>\n",
       "    </tr>\n",
       "    <tr>\n",
       "      <th>50%</th>\n",
       "      <td>143.000000</td>\n",
       "      <td>93.000000</td>\n",
       "      <td>92.000000</td>\n",
       "      <td>105.710000</td>\n",
       "      <td>54.980000</td>\n",
       "      <td>5.000000</td>\n",
       "      <td>0.00000</td>\n",
       "      <td>54.830000</td>\n",
       "    </tr>\n",
       "    <tr>\n",
       "      <th>75%</th>\n",
       "      <td>176.000000</td>\n",
       "      <td>118.000000</td>\n",
       "      <td>119.000000</td>\n",
       "      <td>130.940000</td>\n",
       "      <td>77.620000</td>\n",
       "      <td>10.000000</td>\n",
       "      <td>0.00000</td>\n",
       "      <td>77.362500</td>\n",
       "    </tr>\n",
       "    <tr>\n",
       "      <th>max</th>\n",
       "      <td>443.000000</td>\n",
       "      <td>342.000000</td>\n",
       "      <td>362.000000</td>\n",
       "      <td>337.950000</td>\n",
       "      <td>100.000000</td>\n",
       "      <td>20.000000</td>\n",
       "      <td>1.00000</td>\n",
       "      <td>109.820000</td>\n",
       "    </tr>\n",
       "  </tbody>\n",
       "</table>\n",
       "</div>"
      ],
      "text/plain": [
       "       Inventory Level     Units Sold  Units Ordered  Demand Forecast  \\\n",
       "count    109500.000000  109500.000000  109500.000000    109500.000000   \n",
       "mean        145.705954      96.724356      96.302320       108.003150   \n",
       "std          48.301634      36.948147      38.630996        38.319878   \n",
       "min          20.000000       0.000000      20.000000         0.000000   \n",
       "25%         112.000000      71.000000      69.000000        81.960000   \n",
       "50%         143.000000      93.000000      92.000000       105.710000   \n",
       "75%         176.000000     118.000000     119.000000       130.940000   \n",
       "max         443.000000     342.000000     362.000000       337.950000   \n",
       "\n",
       "               Price       Discount  Holiday/Promotion  Competitor Pricing  \n",
       "count  109500.000000  109500.000000       109500.00000       109500.000000  \n",
       "mean       55.023588       7.517397            0.15011           55.011232  \n",
       "std        25.996368       6.446679            0.35718           26.217801  \n",
       "min        10.000000       0.000000            0.00000            9.080000  \n",
       "25%        32.520000       0.000000            0.00000           32.400000  \n",
       "50%        54.980000       5.000000            0.00000           54.830000  \n",
       "75%        77.620000      10.000000            0.00000           77.362500  \n",
       "max       100.000000      20.000000            1.00000          109.820000  "
      ]
     },
     "execution_count": 9,
     "metadata": {},
     "output_type": "execute_result"
    }
   ],
   "source": [
    "df.describe()\n"
   ]
  },
  {
   "cell_type": "code",
   "execution_count": 12,
   "id": "eec5e464",
   "metadata": {},
   "outputs": [
    {
     "data": {
      "text/plain": [
       "array(['Toys', 'Clothing', 'Electronics', 'Furniture', 'Groceries'],\n",
       "      dtype=object)"
      ]
     },
     "execution_count": 12,
     "metadata": {},
     "output_type": "execute_result"
    }
   ],
   "source": [
    "df['Category'].unique()  # if you have a 'category' column"
   ]
  },
  {
   "cell_type": "code",
   "execution_count": null,
   "id": "f1a22f55",
   "metadata": {},
   "outputs": [],
   "source": []
  }
 ],
 "metadata": {
  "kernelspec": {
   "display_name": "base",
   "language": "python",
   "name": "python3"
  },
  "language_info": {
   "codemirror_mode": {
    "name": "ipython",
    "version": 3
   },
   "file_extension": ".py",
   "mimetype": "text/x-python",
   "name": "python",
   "nbconvert_exporter": "python",
   "pygments_lexer": "ipython3",
   "version": "3.12.7"
  }
 },
 "nbformat": 4,
 "nbformat_minor": 5
}
